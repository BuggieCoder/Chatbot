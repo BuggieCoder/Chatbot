{
  "nbformat": 4,
  "nbformat_minor": 0,
  "metadata": {
    "colab": {
      "provenance": [],
      "authorship_tag": "ABX9TyOoPZ8F/Kx4tSmSG0fEZ08A",
      "include_colab_link": true
    },
    "kernelspec": {
      "name": "python3",
      "display_name": "Python 3"
    },
    "language_info": {
      "name": "python"
    },
    "accelerator": "GPU",
    "gpuClass": "standard"
  },
  "cells": [
    {
      "cell_type": "markdown",
      "metadata": {
        "id": "view-in-github",
        "colab_type": "text"
      },
      "source": [
        "<a href=\"https://colab.research.google.com/github/BuggieCoder/Chatbot/blob/main/%20/Python/%20Drafts%20/GPT4_API/RegBot_3_with_GPT_4_API.ipynb\" target=\"_parent\"><img src=\"https://colab.research.google.com/assets/colab-badge.svg\" alt=\"Open In Colab\"/></a>"
      ]
    },
    {
      "cell_type": "markdown",
      "source": [
        "# RegBot 3 with GPT-4 API"
      ],
      "metadata": {
        "id": "XfiqElyJR9ij"
      }
    },
    {
      "cell_type": "code",
      "source": [
        "# Install openai package\n",
        "!pip install openai"
      ],
      "metadata": {
        "colab": {
          "base_uri": "https://localhost:8080/"
        },
        "id": "B1J1n29ExijU",
        "outputId": "2f704fc8-048a-46e0-f7af-a9974a80fcf8"
      },
      "execution_count": 1,
      "outputs": [
        {
          "output_type": "stream",
          "name": "stdout",
          "text": [
            "Looking in indexes: https://pypi.org/simple, https://us-python.pkg.dev/colab-wheels/public/simple/\n",
            "Collecting openai\n",
            "  Downloading openai-0.27.6-py3-none-any.whl (71 kB)\n",
            "\u001b[2K     \u001b[90m━━━━━━━━━━━━━━━━━━━━━━━━━━━━━━━━━━━━━━━━\u001b[0m \u001b[32m71.9/71.9 kB\u001b[0m \u001b[31m2.0 MB/s\u001b[0m eta \u001b[36m0:00:00\u001b[0m\n",
            "\u001b[?25hCollecting aiohttp\n",
            "  Downloading aiohttp-3.8.4-cp310-cp310-manylinux_2_17_x86_64.manylinux2014_x86_64.whl (1.0 MB)\n",
            "\u001b[2K     \u001b[90m━━━━━━━━━━━━━━━━━━━━━━━━━━━━━━━━━━━━━━━━\u001b[0m \u001b[32m1.0/1.0 MB\u001b[0m \u001b[31m30.7 MB/s\u001b[0m eta \u001b[36m0:00:00\u001b[0m\n",
            "\u001b[?25hRequirement already satisfied: requests>=2.20 in /usr/local/lib/python3.10/dist-packages (from openai) (2.27.1)\n",
            "Requirement already satisfied: tqdm in /usr/local/lib/python3.10/dist-packages (from openai) (4.65.0)\n",
            "Requirement already satisfied: certifi>=2017.4.17 in /usr/local/lib/python3.10/dist-packages (from requests>=2.20->openai) (2022.12.7)\n",
            "Requirement already satisfied: idna<4,>=2.5 in /usr/local/lib/python3.10/dist-packages (from requests>=2.20->openai) (3.4)\n",
            "Requirement already satisfied: charset-normalizer~=2.0.0 in /usr/local/lib/python3.10/dist-packages (from requests>=2.20->openai) (2.0.12)\n",
            "Requirement already satisfied: urllib3<1.27,>=1.21.1 in /usr/local/lib/python3.10/dist-packages (from requests>=2.20->openai) (1.26.15)\n",
            "Collecting frozenlist>=1.1.1\n",
            "  Downloading frozenlist-1.3.3-cp310-cp310-manylinux_2_5_x86_64.manylinux1_x86_64.manylinux_2_17_x86_64.manylinux2014_x86_64.whl (149 kB)\n",
            "\u001b[2K     \u001b[90m━━━━━━━━━━━━━━━━━━━━━━━━━━━━━━━━━━━━━━━\u001b[0m \u001b[32m149.6/149.6 kB\u001b[0m \u001b[31m2.1 MB/s\u001b[0m eta \u001b[36m0:00:00\u001b[0m\n",
            "\u001b[?25hCollecting aiosignal>=1.1.2\n",
            "  Downloading aiosignal-1.3.1-py3-none-any.whl (7.6 kB)\n",
            "Requirement already satisfied: attrs>=17.3.0 in /usr/local/lib/python3.10/dist-packages (from aiohttp->openai) (23.1.0)\n",
            "Collecting async-timeout<5.0,>=4.0.0a3\n",
            "  Downloading async_timeout-4.0.2-py3-none-any.whl (5.8 kB)\n",
            "Collecting multidict<7.0,>=4.5\n",
            "  Downloading multidict-6.0.4-cp310-cp310-manylinux_2_17_x86_64.manylinux2014_x86_64.whl (114 kB)\n",
            "\u001b[2K     \u001b[90m━━━━━━━━━━━━━━━━━━━━━━━━━━━━━━━━━━━━━━━\u001b[0m \u001b[32m114.5/114.5 kB\u001b[0m \u001b[31m2.3 MB/s\u001b[0m eta \u001b[36m0:00:00\u001b[0m\n",
            "\u001b[?25hCollecting yarl<2.0,>=1.0\n",
            "  Downloading yarl-1.9.2-cp310-cp310-manylinux_2_17_x86_64.manylinux2014_x86_64.whl (268 kB)\n",
            "\u001b[2K     \u001b[90m━━━━━━━━━━━━━━━━━━━━━━━━━━━━━━━━━━━━━━━\u001b[0m \u001b[32m268.8/268.8 kB\u001b[0m \u001b[31m6.9 MB/s\u001b[0m eta \u001b[36m0:00:00\u001b[0m\n",
            "\u001b[?25hInstalling collected packages: multidict, frozenlist, async-timeout, yarl, aiosignal, aiohttp, openai\n",
            "Successfully installed aiohttp-3.8.4 aiosignal-1.3.1 async-timeout-4.0.2 frozenlist-1.3.3 multidict-6.0.4 openai-0.27.6 yarl-1.9.2\n"
          ]
        }
      ]
    },
    {
      "cell_type": "code",
      "execution_count": 2,
      "metadata": {
        "id": "ThzrattYxN2Q"
      },
      "outputs": [],
      "source": [
        "# import required library and provide openai api key\n",
        "import openai\n",
        "import os\n",
        "\n",
        "openai.api_key  = \"\" # your key here"
      ]
    },
    {
      "cell_type": "code",
      "source": [
        "# GPT-4 token limit is 8192 which allows for prompt engineering the entire RTCR regulations (without tables)\n",
        "# Define a chat completion function\n",
        "#def get_completion(prompt, model=\"gpt-3.5-turbo\"):\n",
        "def get_completion(prompt, model=\"gpt-4\"):\n",
        "    messages = [{\"role\": \"user\", \"content\": prompt}]\n",
        "    response = openai.ChatCompletion.create(\n",
        "        model=model,\n",
        "        messages=messages,\n",
        "        temperature=0, # this is the degree of randomness of the model's output\n",
        "    )\n",
        "    return response.choices[0].message[\"content\"]"
      ],
      "metadata": {
        "id": "zQlGNsllzDsE"
      },
      "execution_count": 3,
      "outputs": []
    },
    {
      "cell_type": "code",
      "source": [
        "# Place the RTCR text excluding the tables in a list\n",
        "calregs = [\"\"\"\n",
        "64421. General Requirements.\n",
        "(a) The requirements of this Article apply to public water systems.\n",
        "(b) In addition to the bacteriological monitoring requirements in Sections 64423, 64424, 64425, and 64426.9, a public water system shall perform special purpose bacteriological monitoring as follows:\n",
        "(1) After any system pressure loss to less than five psi. Samples collected shall represent the water quality in the affected portions of the system; and\n",
        "(2) For a groundwater (not GWUDI) source that is treated with a primary or residual disinfectant on a continuous basis and is not monitored pursuant to Section 64654.8(b)(1)(B):\n",
        "(A) A raw water sample shall be collected each calendar quarter, with samples collected during the same month (first, second, or third) of each calendar quarter; and\n",
        "(B) If the raw water sample is total coliform-positive, a raw water sample shall be collected each month. If no coliforms are detected for a minimum of three consecutive months, a public water system may submit a request to the State Board to monitor in accordance with subparagraph (A).\n",
        "(c) A public water system shall maintain documentation that the personnel performing sample collection and/or field tests under this Article have been trained pursuant to Section 64415(b). As a minimum, the documentation shall include the name and qualifications of the personnel who will be performing the sample collection and/or field tests.\n",
        "(d) Plans, procedures, and requests to be submitted by a public water system to the State Board under this Article shall be in writing. For a request, the system shall state what is being requested, the basis for the request, and include any documentation to support the request.\n",
        "\"\"\", \"\"\"\n",
        "§ 64422. Bacteriological Sample Siting Plan.\n",
        "(a) By October 1, 2021, an existing public water system shall develop and submit to the State Board a bacteriological sample siting plan that identifies sampling sites and a sample collection schedule for the collection of bacteriological samples for total coliform analysis, subject to the following:\n",
        "(1) The sample sites chosen shall be representative of water throughout the distribution system including each pressure zone, and areas supplied by each water source and distribution reservoir;\n",
        "(2) Routine sampling may be rotated among the routine sample sites if the total number of sites needed to comply with paragraph (1) exceeds the number of samples required according to Table 64423-A. The rotation of sampling sites shall be described in the plan;\n",
        "(3) Routine and repeat sampling may take place at a customer's premises, dedicated sampling station, or other designated compliance sample location;\n",
        "(4) The physical location of routine and repeat sample sites and sampling points required by the Ground Water Rule (triggered source monitoring and assessment source monitoring) in Section 64430 shall be specified in the plan; and\n",
        "(5) If applicable, the alternative sampling locations, dual purpose sampling locations, and special purpose sampling locations required in Table 64424-A, Table 64424-B, and Section 64421(b)(2), respectively, shall be specified in the plan.\n",
        "(b) A public water system shall collect bacteriological samples for total coliform analysis in accordance with the State Board-approved bacteriological sample siting plan.\n",
        "(c) A public water system shall submit an updated plan to the State Board at least once every ten years and within 30 days of the system's or State Board's determination that the plan no longer complies with subsection (a), the alternative monitoring location for repeat samples collected under Table 64424-A is no longer representative of a pathway for contamination of the distribution system, or dual purpose sampling specified in Table 64424-B is no longer representative of water quality in the distribution system.\n",
        "\"\"\", \"\"\" 64423. Routine Sampling.\n",
        "(a) A public water system shall collect routine bacteriological water samples as follows:\n",
        "(1) The minimum number of samples for community water systems shall be based on the known population served or the total number of service connections, whichever results in the greater number of samples, as shown in Table 64423-A;\n",
        "(2) The minimum number of samples for nontransient-noncommunity water systems shall be based on the known population served as shown in Table 64423-A during those months when the system is operating;\n",
        "(3) The minimum number of samples for transient-noncommunity water systems using only groundwater (not GWUDI) and serving 1000 or fewer persons a month shall be one in each calendar quarter during which the system provides water to the public;\n",
        "(4) The minimum number of samples for transient-noncommunity water systems using groundwater (not GWUDI) and serving more than 1000 persons during any month shall be based on the known population served as shown in Table 64423-A. For any quarter the system serves 1000 or fewer persons in each month and uses only groundwater (not GWUDI), and if the criteria in subsections (c)(2)(A) and (B) are met, the system may submit a request to the State Board to monitor in accordance with paragraph (3). The request shall include:\n",
        "(A) Historical data that demonstrates the system has served 1000 or fewer persons in each month of the calendar quarter for which the request is being made; and\n",
        "(B) A revised bacteriological sample siting plan with an updated sampling schedule;\n",
        "(5) The minimum number of samples for transient-noncommunity water systems using approved surface water shall be based on the population served as shown in Table 64423-A. A system using groundwater under the direct influence of surface water shall begin monitoring at this frequency by the end of the sixth month after the State Board has designated the source to be approved surface water;\n",
        "(6) The minimum number of samples for seasonal systems, and in lieu of paragraphs (2) through (5), shall be based on the population served as shown in Table 64423-A during those months when the system is operating;\n",
        "(7) Samples shall be collected at regular time intervals throughout the month, except that a system using only groundwater (not GWUDI) which serves 4,900 persons or fewer may collect all required samples on a single day if they are taken from different sites;\n",
        "(8) At least the minimum number of samples shall be taken even if the system has had an E. coli MCL violation or has exceeded the coliform treatment technique triggers in Section 64426.7; and\n",
        "(9) More than the minimum number of samples may be taken provided the samples are included in the bacteriological sample siting plan developed pursuant to Section 64422.\n",
        "(b) In addition to the minimum sampling requirements, all public water systems using approved surface water which do not practice filtration in compliance with Sections 64650 through 64666, shall collect a minimum of one sample before or at the first service connection each day during which the turbidity level of the source water exceeds 1 NTU. The sample shall be collected within 24 hours of the first exceedance and shall be analyzed for total coliforms. If the system is unable to collect and/or analyze the sample within the 24-hour time period because of extenuating circumstances beyond its control, the system shall notify the State Board within the 24-hour time period, submit a request to the State Board for an extension, and comply with an alternative sample collection schedule specified by the State Board. Sample results shall be included in determining if the coliform treatment technique trigger in Section 64426.7 has been exceeded.\n",
        "(c) A transient-noncommunity water system monitoring pursuant to subsection (a)(3):\n",
        "(1) Shall, in the month following the occurrence of any of the following events, increase monitoring to one sample each month:\n",
        "(A) The system triggers a Level 2 assessment or two Level 1 assessments in a rolling 12-month period;\n",
        "(B) The system has an E. coli MCL violation;\n",
        "(C) The system has a coliform treatment technique violation; or\n",
        "(D) The system has two bacteriological monitoring violations or one bacteriological monitoring violation and one Level 1 assessment in a rolling 12-month period. For purposes of this subparagraph, failure to conduct bacteriological monitoring under Section 64423, 64423.1, 64424, or 64425 is a bacteriological monitoring violation;\n",
        "(2) If monitoring pursuant to paragraph (1) and if all the following criteria are met, may submit a request to the State Board to return to routine monitoring pursuant to subsection (a)(3):\n",
        "(A) Within the last 12 consecutive months, the system shall have a completed sanitary survey, site visit, or voluntary Level 2 assessment by the State Board and be determined by the State Board to be free of sanitary defects and have a protected water source; and\n",
        "(B) Immediately prior to the request, the system shall have a clean compliance history for a minimum of 12 consecutive months; and\n",
        "(3) Shall, in the month following one or more total coliform-positive samples (with or without a Level 1 treatment technique trigger exceedance), collect at least three routine samples. The system may either collect samples at regular time intervals throughout the month or may collect all required routine samples on a single day if samples are taken from different sites. If the system stops supplying water during the month following the total coliform-positive(s), at least three routine samples shall be collected during the first month the system resumes operation.\n",
        "(d) A public water system in violation of the routine sample monitoring requirements of this section shall notify the State Board within 10 days after it learns of the violation and notify the public pursuant to Sections 64463, 64463.7, and 64465.\n",
        "(e) A public water system in violation of the reporting requirement in subsection (d) to notify the State Board shall notify the public pursuant to Sections 64463, 64463.7, and 64465.\n",
        "1  For a transient-noncommunity water system, monthly population served shall be based on the average number of persons served per day in a month.\n",
        "\"\"\", \"\"\"\n",
        " 64423.1. Sample Analysis and Reporting of Results.\n",
        "(a) A public water system shall designate (label) each sample as routine, repeat, replacement, or other pursuant to Section 64421(b), and have each sample analyzed for total coliforms. The system also shall require the laboratory to analyze the same sample for Escherichia coli (E. coli) whenever the presence of total coliforms is indicated. As a minimum, the analytical results shall be reported in terms of the presence or absence of total coliforms and E. coli, in the sample, whichever is appropriate. If directed by the State Board, based on an identified sanitary defect, exceedance of a Level 1 or Level 2 coliform treatment technique trigger, history of total coliform-positive samples within the past 12 consecutive months, or determination of a possible significant rise in bacterial count in accordance with Section 64426, the analytical results shall be reported in terms of coliform density of total coliforms and E. coli, in the sample, whichever is appropriate.\n",
        "(b) A public water system shall require the laboratory to notify the system within 24 hours, whenever the presence of total coliform or E. coli is demonstrated in a sample or a sample is invalidated due to interference problems, pursuant to Section 64425(b), ensure that a contact person is available to receive these analytical results 24-hours a day, and provide the name(s) and contact information of the contact person(s) to the laboratory. The system shall also require the laboratory to immediately notify the State Board of any positive bacteriological results if the laboratory cannot make direct contact with the designated contact person within 24 hours.\n",
        "(c) Analytical results of all required samples collected for a public water system in a calendar month shall be reported to the State Board not later than the tenth day of the following month, as follows:\n",
        "(1) Systems serving more than 400 service connections or 1000 persons, or a wholesaler as defined in section 64402.20(a), shall submit a monthly summary of the bacteriological monitoring results to the State Board, which shall contain the following:\n",
        "(A) Total number of samples collected;\n",
        "(B) Number, sample collection date, and sample location of all total coliform and E. coli-positive samples;\n",
        "(C) Number, sample collection date, sample location, and result of triggered groundwater source samples collected; and\n",
        "(D) Sample collection date, sample location, and result for all repeat samples collected.\n",
        "(2) Systems serving fewer than 10,000 service connections shall require the laboratory to submit copies of all required bacteriological monitoring results directly to the State Board; and\n",
        "(3) Systems serving 10,000 or more service connections shall require the laboratory to submit copies of bacteriological monitoring results for all positive routine samples and all repeat samples directly to the State Board.\n",
        "(d) A public water system in violation of the monitoring requirement of subsection (a) to test the same sample for E. coli following a total coliform-positive routine sample shall notify the State Board within 10 days after it learns of the violation and shall notify the public pursuant to Sections 64463, 64463.7, and 64465.\n",
        "(e) A public water system in violation of the reporting requirement of subsection (c) to report monitoring results to the State Board or subsection (d) to notify the State Board shall notify the public pursuant to Sections 64463, 64463.7, and 64465.\n",
        "\"\"\", \"\"\"\n",
        " 64424. Repeat Sampling.\n",
        "(a) If a routine sample is total coliform-positive, a public water system shall collect a repeat sample set as described in paragraph (1) within 24 hours of being notified of the positive result. The repeat samples shall all be collected within the same 24-hour time period. A single service connection system may submit a request to the State Board to allow the collection of the repeat sample set over a three-day period.\n",
        "(1) A repeat sample set shall be at least three samples for each total coliform-positive sample.\n",
        "(2) If the system is unable to collect the samples within the 24-hour time period specified in subsection (a) or deliver the samples to the laboratory within 24 hours after collection because of circumstances beyond its control, the system shall notify the State Board within 24 hours. The State Board will then determine how much time the system will have to collect the repeat samples.\n",
        "(b) Unless the condition for using alternative sampling locations or dual purpose sampling locations in Table 64424-A or B, respectively, is met, when collecting the repeat sample set, a public water system shall collect at least one repeat sample from the sampling tap where the original total coliform-positive sample was taken. Other repeat samples shall be collected within five service connections upstream or downstream of the original site. At least one sample shall be from upstream and one from downstream unless there is no upstream and/or downstream service connection. If a total coliform-positive sample is at the end of the distribution system, or one service connection away from the end of the distribution system, the system shall still take all required repeat samples. The system may submit a request to the State Board to use an alternative sampling location in lieu of the requirement to collect at least one repeat sample upstream or downstream of the original sampling site. Except as provided in Table 64424-B, a system required to conduct triggered source water monitoring under 40 CFR 141.402(a), which is incorporated by reference under Section 64430, shall take groundwater (not GWUDI) source sample(s) in addition to repeat samples required under this section. If monitoring pursuant to Table 64424-B and in violation of the E. coli MCL, the system shall comply with the additional Ground Water Rule requirements in Table 64424-C.\n",
        "(c) If one or more samples in the repeat sample set is total coliform-positive, a public water system shall collect and have analyzed an additional set of repeat samples as specified in subsections (a) and (b). The system shall repeat this process until either no total coliforms are detected in one complete repeat sample set or the system determines that a coliform treatment technique trigger specified in Section 64426.7 has been exceeded as a result of a repeat sample being total coliform-positive and notifies the State Board by the end of the day on which this is determined. If a treatment technique trigger identified in Section 64426.7 is exceeded as a result of a routine sample being total coliform-positive, the system is required to conduct only one round of repeat monitoring for each total coliform-positive routine sample.\n",
        "(d) A public water system in violation of the repeat sample monitoring requirements of this section shall notify the State Board within 10 days after it learns of the violation and notify the public pursuant to Sections 64463, 64463.7, and 64465.\n",
        "(e) A public water system in violation of the reporting requirement in subsection (d) to notify the State Board shall notify the \n",
        "public pursuant to Sections 64463, 64463.7, and 64465.\n",
        "\"\"\", \"\"\"\n",
        "64425. Sample Invalidation.\n",
        "(a) A public water system may request the State Board to invalidate a routine or repeat sample for which a total coliform-positive result has been reported if the system demonstrates:\n",
        "(1) All repeat sample(s) collected at the same tap as the original total coliform-positive sample also are total coliform- positive and all repeat samples collected within five service connections of the original tap are not total coliform-positive; or\n",
        "(2) The laboratory did not follow the prescribed analytical methods pursuant to Section 64415(a), based on a review of laboratory documentation by the State Board. The system shall submit to the State Board a written request for invalidation along with the laboratory documentation, the system's sample collection records and any observations noted during sample collection and delivery. The system shall require the laboratory to provide the system with documentation which shall include, but not be limited to:\n",
        "(A) A letter from the director of the laboratory having generated the data, confirming the invalidation request by reason of laboratory accident or error;\n",
        "(B) Complete sample identification, laboratory sample log number (if used), date and time of collection, date and time of receipt by the laboratory, date and time of analysis for the sample(s) in question;\n",
        "(C) Complete description of the accident or error alleged to have invalidated the result(s);\n",
        "(D) Copies of all analytical, operating, and quality assurance records pertaining to the incident in question; and\n",
        "(E) Any observations noted by laboratory personnel when receiving and analyzing the sample(s) in question.\n",
        "(b) Whenever any total coliform routine or repeat sample result indicative of the absence of total coliforms has been declared invalid by the laboratory due to interference problems as specified at 40 Code Federal Regulations, Section 141.853(c)(2) (78 Fed. Reg. 10270 (February 13, 2013)), which is incorporated by reference, the public water system shall collect a replacement sample from the same location as the original sample within 24 hours of being notified of the interference problem, and have it analyzed for the presence of total coliforms. The system shall continue to re-sample at the original site within 24 hours and have the samples analyzed until a valid result is obtained. If the system is unable to collect the sample within the 24-hour time period or deliver the sample to the laboratory within 24 hours after collection because of circumstances beyond its control, the system shall notify the State Board within 24 hours. The State Board will then determine how much time the system will have to collect the replacement sample.\n",
        "(c) A total coliform-positive sample invalidated under this section does not count towards meeting the minimum routine and repeat sample monitoring requirements of Sections 64423 and 64424, respectively.\n",
        "(d) A public water system in violation of the replacement sample monitoring requirements of subsection (b) shall notify the State Board within 10 days after it learns of the violation and notify the public pursuant to Sections 64463, 64463.7, and 64465.\n",
        "(e) A public water system in violation of the reporting requirement in subsection (d) to notify the State Board shall notify the public pursuant to Sections 64463, 64463.7, and 64465.\n",
        "\"\"\", \"\"\"\n",
        "64426. Significant Rise in Bacterial Count.\n",
        "(a) A public water system shall determine whether a possible significant rise in bacterial count has occurred for each month in which it is required to monitor for total coliforms. Results of all samples collected in a calendar month pursuant to Sections 64423, 64424, and 64425 that are not invalidated by the State Board or the laboratory shall be included in determining a possible significant rise in bacterial count. Special purpose samples such as those listed in Section 64421(b) and special purpose samples collected by a public water system during special investigations shall also be included to determine a possible significant rise in bacterial count.\n",
        "(b) Any of the following criteria shall indicate a possible significant rise in bacterial count:\n",
        "(1) A public water system collecting at least 40 samples per month has a total coliform-positive routine sample followed by two total coliform-positive repeat samples in the repeat sample set;\n",
        "(2) A public water system has a sample which is positive for E. coli; or\n",
        "(3) A system fails the E. coli Maximum Contaminant Level (MCL) as defined in Section 64426.1.\n",
        "(c) When the coliform criteria specified in subsection (b) are reached or exceeded, the public water system shall:\n",
        "(1) Contact the State Board by the end of the day on which the system is notified of the test result(s); and\n",
        "(2) Within 24 hours on which the system is notified of the test result(s), conduct an investigation and submit to the State Board information on the current status of physical works and operating procedures which may have caused the elevated bacteriological findings, or any information on community illness suspected of being waterborne. This shall include, but not be limited to:\n",
        "(A) Current operating procedures that are or could potentially be related to the increase in bacterial count;\n",
        "(B) Any interruptions in the treatment process;\n",
        "(C) System pressure loss to less than 5 psi;\n",
        "(D) Vandalism and/or unauthorized access to facilities;\n",
        "(E) Evidence indicating bacteriological contamination of facilities;\n",
        "(F) Analytical results of any additional samples collected, including source samples;\n",
        "(G) Community illness suspected of being waterborne; and\n",
        "(H) Records of the investigation and any action taken.\n",
        "(d) As soon as possible within 24 hours of receiving notification from the State Board determining there is a significant rise in bacterial count, based on the information submitted under subsection (c)(2), the public water system shall implement the emergency notification plan required by Section 116460, Health and Safety Code.\n",
        "(e) Within 30 days on which the system is notified of the test result(s) indicating a possible significant rise in bacterial count, submit to the State Board a report on the investigation, sanitary defects detected (and if applicable, may note no sanitary defects were detected), corrective actions completed, and a proposed timetable for any corrective actions not already completed. The system shall notify the State Board within five business days when each scheduled corrective action is completed.\n",
        "(f) A public water system in violation of the reporting requirement in subsection (c)(1) to notify the State Board when a routine or repeat sample is E. coli-positive shall notify the public pursuant to Sections 64463, 64463.7, and 64465.\n",
        "\"\"\", \"\"\"\n",
        "64426.1. E. coli Maximum Contaminant Level (MCL).\n",
        "(a) A public water system shall determine compliance with the E. coli MCL for each month in which it is required to monitor for total coliforms. Results of all samples collected in a calendar month pursuant to Sections 64423, 64424, and 64425 that are not invalidated by the State Board or the laboratory shall be included in determining compliance with the E. coli MCL. Special purpose samples such as those listed in Section 64421(b) and special purpose samples collected by a public water system during special investigations shall not be used to determine compliance with the E. coli MCL.\n",
        "(b) A public water system is in violation of the E. coli MCL when any of the following occurs:\n",
        "(1) The system has an E. coli-positive repeat sample following a total coliform-positive routine sample;\n",
        "(2) The system has a total coliform-positive repeat sample following an E. coli-positive routine sample;\n",
        "(3) The system fails to take all required repeat samples following an E. coli-positive routine sample; or\n",
        "(4) The system fails to test for E. coli when any repeat sample tests positive for total coliform.\n",
        "(c) If a public water system is not in compliance with subsections (b)(1) through (4), during any month in which it supplies water to the public, the system shall notify the State Board by the end of the day on which this is determined. The system shall also notify the public pursuant to Sections 64463, 64463.1, and 64465.\n",
        "(d) A public water system in violation of the reporting requirement in subsection (c) to notify the State Board shall notify the public pursuant to Sections 64463, 64463.7, and 64465.\n",
        "(e) A public water system shall not be eligible for a variance or exemption from the E. coli MCL.\n",
        "\"\"\", \"\"\"\n",
        "64426.6. Coliform Treatment Technique.\n",
        "(a) A public water system is in violation of the coliform treatment technique when either of the following occurs:\n",
        "(1) The system exceeds a treatment technique trigger specified in Section 64426.7 and then fails to conduct the required assessment or corrective actions within the timeframe specified in Section 64426.8; or\n",
        "(2) A seasonal system fails to complete a State Board-approved start-up procedure prior to serving water to the public.\n",
        "(b) A public water system in violation of the coliform treatment technique shall notify the State Board by the end of the next business day on which this is determined. The system shall also notify the public pursuant to Sections 64463, 64463.4, and 64465.\n",
        "(c) A public water system in violation of the reporting requirement in subsection (b) to notify the State Board shall notify the public pursuant to Sections 64463, 64463.7, and 64465.\n",
        "\"\"\", \"\"\"\n",
        "64426.7. Coliform Treatment Technique Triggers.\n",
        "(a) A public water system shall determine whether a coliform treatment technique trigger has been exceeded for each month in which it is required to monitor for total coliforms. Results of all samples collected in a calendar month pursuant to Sections 64423, 64424, and 64425 that are not invalidated by the State Board or the laboratory shall be included in determining if a coliform treatment technique trigger has been exceeded. Special purpose samples such as those listed in Section 64421(b) and special purpose samples collected by a public water system during special investigations shall not be used to determine if a coliform treatment technique trigger has been exceeded.\n",
        "(b) A public water system exceeds a Level 1 treatment technique trigger if any of the following occurs:\n",
        "(1) For a system taking 40 or more samples per month, the system exceeds 5.0% total coliform-positive samples for the month;\n",
        "(2) For a system taking fewer than 40 samples per month, the system has two or more total coliform-positive samples in the same month; or\n",
        "(3) The system fails to take every required repeat samples after any single total coliform-positive sample.\n",
        "(c) A public water system exceeds a Level 2 treatment technique trigger if either of the following occurs:\n",
        "(1) The system has an E. coli MCL violation; or\n",
        "(2) The system has a second Level 1 treatment technique trigger, within a rolling 12-month period, unless the State Board has determined a likely reason that the samples that caused the first Level 1 treatment technique trigger were total coliform-positive and has established that the system has corrected the problem.\n",
        "\"\"\", \"\"\"\n",
        "64426.8. Level 1 and Level 2 Assessments and Corrective Actions.\n",
        "(a) If a public water system exceeds a Level 1 treatment technique trigger in Section 64426.7(b), the system shall:\n",
        "(1) Direct the system operator or owner to conduct and complete a Level 1 assessment as soon as practical after exceeding any trigger;\n",
        "(2) Ensure that the assessment is conducted to identify the possible presence of sanitary defects and defects in distribution system coliform monitoring practices. The assessment shall include a review and identification of the minimum elements in subparagraphs (A) through (E) and shall describe sanitary defects detected (and if applicable, may note no sanitary defects were detected), corrective actions completed, and a proposed timetable for any corrective actions not already completed:\n",
        "(A) Inadequacies in sample sites, sampling protocol, and sample processing;\n",
        "(B) Atypical events that could affect distributed water quality or indicate that distributed water quality was impaired;\n",
        "(C) Changes in distribution system maintenance and operation that could affect distributed water quality (including water storage);\n",
        "(D) Source and treatment considerations that bear on distributed water quality, where appropriate (e.g., small groundwater systems or whether a groundwater system is disinfected); and\n",
        "(E) Existing water quality monitoring data;\n",
        "(3) Conduct the assessment consistent with any State Board directives that tailor specific assessment elements with respect to the size and type of the water system and the size, type, and characteristics of the distribution system;\n",
        "(4) Within 30 days after the system learns that it has exceeded a trigger, submit to the State Board the completed assessment; and\n",
        "(5) If directed by the State Board, based on its determination that the completed assessment is not sufficient (including any proposed timetable for any corrective actions not already completed), submit a revised completed assessment to the State Board within 30 days.\n",
        "(b) If a public water system exceeds a Level 2 treatment technique trigger in Section 64426.7(c), the system shall:\n",
        "(1) Arrange with the State Board to conduct and complete a Level 2 assessment, that includes a review and identification of the minimum elements in subsections (a)(2)(A) through (E) to identify the possible presence of sanitary defects and defects in distribution system coliform monitoring practices, as soon as practical after exceeding any trigger;\n",
        "(2) Comply with any expedited actions or additional actions required by the State Board in the case of an E. coli MCL violation;\n",
        "(3) Within 30 days after the system learns that it has exceeded a trigger, submit to the State Board a completed assessment that includes the State Board assessment and describes sanitary defects detected (and if applicable, may note no sanitary defects were detected), corrective actions completed, and a proposed timetable for any corrective actions not already completed; and\n",
        "(4) If directed by the State Board, based on its determination that the completed assessment is not sufficient (including any proposed timetable for any corrective actions not already completed), submit a revised description of corrective actions completed and a proposed timetable for any corrective actions not already completed to the State Board within 30 days.\n",
        "(c) A public water system shall correct sanitary defects found through either a Level 1 or Level 2 assessment conducted under subsection (a) or (b), respectively. For corrections not completed by the time of submission of the completed assessment, the system shall complete the corrective action(s) in compliance with a State Board-approved timetable. The system shall notify the State Board within five business days when each scheduled corrective action is completed.\n",
        "(d) A public water system in violation of the reporting requirement of subsection (a)(4) or (b)(3) to submit a completed assessment to the State Board or subsection (c) to notify the State Board shall notify the public pursuant to Sections 64463, 64463.7, and 64465.\n",
        "\"\"\", \"\"\"\n",
        "64426.9. Seasonal System Start-Up Procedure.\n",
        "(a) By October 1, 2021, an existing seasonal system shall develop and submit to the State Board a start-up procedure. The procedure shall include, but not be limited to, the following:\n",
        "(1) Inspection of water system components, including each source, treatment facility, distribution main, and distribution reservoir;\n",
        "(2) Disinfection and flushing of water system components;\n",
        "(3) Bacteriological monitoring, at each source (prior to treatment), each distribution reservoir, and, whichever results in the greater number of samples, each pressure zone or a minimum of three samples from the distribution system. The location of the distribution system samples shall be specified in the procedure;\n",
        "(4) Disinfectant residual monitoring, at the same points and at the same time as total coliforms are sampled in paragraph (3);\n",
        "(5) Use of certified distribution operator(s) to supervise or perform activities in paragraphs (1) through (4); and\n",
        "(6) Notification of the State Board of system shutdown and prior to serving water to the public.\n",
        "(b) Prior to serving water to the public, a seasonal system shall:\n",
        "(1) Complete a State Board-approved start-up procedure;\n",
        "(2) Certify to the State Board it has complied with the State Board-approved start-up procedure;\n",
        "(3) Submit to the State Board results of bacteriological and disinfectant residual monitoring performed under subsections (a)(3) and (4), respectively; and\n",
        "(4) Obtain written State Board approval to serve water to the public.\n",
        "(c) If the entire distribution system remains pressurized during the period a seasonal system is not operating, the seasonal system may submit a request to the State Board to be exempt from some or all of the requirements in subsections (a)(1) through (5).\n",
        "(d) A seasonal system that proposes to use an alternative to a start-up procedure requirement in subsections (a)(1) through (5) shall:\n",
        "(1) Demonstrate to the State Board that the proposed alternative would provide at least the same level of protection to public health; and\n",
        "(2) Obtain written approval from the State Board prior to implementation of the alternative.\n",
        "(e) A public water system in violation of the reporting requirement in subsections (b) and (b)(2) to certify completion of a State Board-approved start-up procedure prior to serving water to the public shall notify the public pursuant to Sections 64463, 64463.7, and 64465.\n",
        "\"\"\", \"\"\"\n",
        "64427. Sanitary Survey.\n",
        "Systems which collect less than five routine samples per month shall be subject to an initial sanitary survey by the Department by June 29, 1994 for community water systems and June 29, 1999 for nontransient-noncommunity and transient-noncommunity water systems. Sanitary surveys shall be repeated every five years.\n",
        "\n",
        "\"\"\"]"
      ],
      "metadata": {
        "id": "PhkJ79j9-n6i"
      },
      "execution_count": 4,
      "outputs": []
    },
    {
      "cell_type": "code",
      "source": [
        "# Place 20 multiple choice questions in another list\n",
        "questions = [\"\"\"1. When should a raw water sample be collected for a groundwater source that is treated with a primary or residual disinfectant on a continuous basis and is not monitored pursuant to Section 64654.8(b)(1)(B)?\n",
        "A) Each calendar quarter, with samples collected during the same month\n",
        "B) Each month, with samples collected during the same week\n",
        "C) Each year, with samples collected during the same season\n",
        "D) Only if the raw water sample is total coliform-positive\"\"\",\n",
        "\"\"\"2. What is the requirement for choosing sample sites for bacteriological sampling?\n",
        "a) The sample sites should be located in the same pressure zone\n",
        "b) The sample sites should be located in the same water source\n",
        "c) The sample sites should be representative of water throughout the distribution system\n",
        "d) The sample sites should be located in the same distribution reservoir\"\"\",\n",
        "\"\"\"3. What is the minimum number of routine bacteriological water samples required for a transient-noncommunity water system using only groundwater and serving more than 1000 persons during any month?\n",
        "a) One sample per quarter\n",
        "b) One sample per month\n",
        "c) Based on the known population served\n",
        "d) Not required to collect routine samples\"\"\",\n",
        "\"\"\"4. What is the deadline for reporting analytical results of all required samples collected for a public water system in a calendar month?\n",
        "a) The first day of the following month\n",
        "b) The fifth day of the following month\n",
        "c) The tenth day of the following month\n",
        "d) The fifteenth day of the following month\"\"\",\n",
        "\"\"\"5. What is the consequence for a public water system in violation of the monitoring requirement of subsection (a) to test the same sample for E. coli following a total coliform-positive routine sample?\n",
        "a) A fine will be imposed on the public water system\n",
        "b) The public water system will be shut down\n",
        "c) The public water system must notify the State Board within 10 days and notify the public\n",
        "d) The public water system must notify the State Board within 24 hours and notify the public\"\"\",\n",
        "\"\"\"6. What is the minimum number of repeat samples required for each total coliform-positive sample?\n",
        "a) One\n",
        "b) Two\n",
        "c) Three\n",
        "d) Four\"\"\",\n",
        "\"\"\"7. When collecting the repeat sample set, where should a public water system collect at least one repeat sample from?\n",
        "a) Anywhere within the distribution system\n",
        "b) At least five service connections upstream or downstream of the original site\n",
        "c) At least one mile upstream or downstream of the original site\n",
        "d) At least one repeat sample should be from upstream and one from downstream unless there is no upstream and/or downstream service connection\"\"\",\n",
        "\"\"\"8. What should a public water system do if one or more samples in the repeat sample set is total coliform-positive?\n",
        "a) Collect and have analyzed an additional set of repeat samples\n",
        "b) Notify the State Board by the end of the day on which this is determined\n",
        "c) Repeat the process until either no total coliforms are detected in one complete repeat sample set or the system determines that a coliform treatment technique trigger has been exceeded\n",
        "d) All of the above\"\"\",\n",
        "\"\"\"9. What should a public water system do if a total coliform routine or repeat sample result indicative of the absence of total coliforms has been declared invalid by the laboratory due to interference problems?\n",
        "A) Collect a replacement sample from a different location\n",
        "B) Wait for the laboratory to provide a valid result\n",
        "C) Collect a replacement sample from the same location as the original sample within 24 hours of being notified of the interference problem\n",
        "D) Notify the State Board within 10 days after it learns of the invalidation\"\"\",\n",
        "\"\"\"10. What happens to a total coliform-positive sample invalidated under section 64425?\n",
        "A) It counts towards meeting the minimum routine and repeat sample monitoring requirements\n",
        "B) It does not count towards meeting the minimum routine and repeat sample monitoring requirements\n",
        "C) It is automatically replaced with a valid sample\n",
        "D) It is reported to the public pursuant to Sections 64463, 64463.7, and 64465\"\"\",\n",
        "\"\"\"11. What is considered a possible significant rise in bacterial count in a public water system collecting at least 40 samples per month?\n",
        "a) A total coliform-positive routine sample followed by one total coliform-positive repeat sample\n",
        "b) A total coliform-positive routine sample followed by two total coliform-positive repeat samples\n",
        "c) A total coliform-positive routine sample followed by three total coliform-positive repeat samples\n",
        "d) A total coliform-positive routine sample followed by four total coliform-positive repeat samples\"\"\",\n",
        "\"\"\"12. What should a public water system do when a significant rise in bacterial count is detected?\n",
        "a) Conduct an investigation and submit a report to the State Board within 48 hours\n",
        "b) Contact the State Board within 24 hours and conduct an investigation within 48 hours\n",
        "c) Contact the State Board by the end of the day and conduct an investigation within 24 hours\n",
        "d) Contact the State Board within 48 hours and conduct an investigation within 72 hours\"\"\",\n",
        "\"\"\"13. When is a public water system in violation of the E. coli MCL?\n",
        "a) When the system has a total coliform-positive routine sample followed by a E. coli-positive repeat sample\n",
        "b) When the system fails to take all required repeat samples following an E. coli-positive routine sample\n",
        "c) When the system fails to test for E. coli when any repeat sample tests positive for total coliform\n",
        "d) All of the above\"\"\",\n",
        "\"\"\"14. What is the coliform treatment technique violation?\n",
        "a) When a public water system fails to complete a State Board-approved start-up procedure prior to serving water to the public.\n",
        "b) When a public water system exceeds a treatment technique trigger specified in Section 64426.7 and then fails to conduct the required assessment or corrective actions within the timeframe specified in Section 64426.8.\n",
        "c) When a public water system fails to notify the State Board by the end of the next business day on which the violation is determined.\n",
        "d) When a public water system fails to notify the public pursuant to Sections 64463, 64463.4, and 64465.\"\"\",\n",
        "\"\"\"15. What is the consequence of a public water system violating the coliform treatment technique?\n",
        "a) The system will be shut down permanently.\n",
        "b) The system will be fined by the State Board.\n",
        "c) The system will be required to notify the State Board by the end of the next business day on which the violation is determined.\n",
        "d) The system will be required to notify the public pursuant to Sections 64463, 64463.4, and 64465.\"\"\",\n",
        "\"\"\"16. What is a Level 1 treatment technique trigger for coliform in California drinking water regulations?\n",
        "a) For a system taking 40 or more samples per month, the system exceeds 5.0% total coliform-positive samples for the month\n",
        "b) For a system taking fewer than 40 samples per month, the system has two or more total coliform-positive samples in the same month\n",
        "c) The system fails to take every required repeat samples after any single total coliform-positive sample\n",
        "d) The system has an E. coli MCL violation\"\"\",\n",
        "\"\"\"17. What is a Level 2 treatment technique trigger for coliform in California drinking water regulations?\n",
        "a) For a system taking 40 or more samples per month, the system exceeds 5.0% total coliform-positive samples for the month\n",
        "b) For a system taking fewer than 40 samples per month, the system has two or more total coliform-positive samples in the same month\n",
        "c) The system has an E. coli MCL violation\n",
        "d) The system has a second Level 1 treatment technique trigger, within a rolling 12-month period\"\"\",\n",
        "\"\"\"18. What is the purpose of a Level 1 assessment in California drinking water regulations?\n",
        "a) To identify the possible presence of sanitary defects and defects in distribution system coliform monitoring practices\n",
        "b) To comply with State Board directives\n",
        "c) To arrange with the State Board to conduct a Level 2 assessment\n",
        "d) To notify the public of violations\"\"\",\n",
        "\"\"\"19. What is the timeframe for a public water system to submit a completed assessment to the State Board after exceeding a trigger for a Level 2 treatment technique?\n",
        "a) Within 10 days\n",
        "b) Within 20 days\n",
        "c) Within 30 days\n",
        "d) Within 40 days\"\"\",\n",
        "\"\"\"20. What is required for a seasonal system to obtain written State Board approval to serve water to the public?\n",
        "a) Completion of a State Board-approved start-up procedure\n",
        "b) Certification of compliance with the State Board-approved start-up procedure\n",
        "c) Submission of results of bacteriological and disinfectant residual monitoring\n",
        "d) All of the above\"\"\"]"
      ],
      "metadata": {
        "id": "VAck_iNdq9qC"
      },
      "execution_count": 5,
      "outputs": []
    },
    {
      "cell_type": "markdown",
      "source": [
        "# Test 1"
      ],
      "metadata": {
        "id": "uv0ZJP-qVYNr"
      }
    },
    {
      "cell_type": "code",
      "source": [
        "# Looping thru all questions but after question 8, rate limit error was thrown\n",
        "for question in questions[0: 20]:\n",
        "    prompt = f\"\"\"\n",
        "    Your task is to select the correct answer choice for a multiple choices question based \n",
        "    on a section of California drinking water regulations. Each question will have 4 answer choices.\n",
        "\n",
        "    Select the correct answer choise for the multiple choices question provided in the Questions delimited by \n",
        "    double backticks, based on the information provided in the California drinking water regulations delimited by \n",
        "    triple backticks.\n",
        "    Give answer in the following format: <ordered question number>. The correct answer is <choice>.\n",
        "    Questions: ``{question}``\n",
        "    California drinking water regulations: ```{calregs}```\n",
        "    \"\"\"\n",
        "    response = get_completion(prompt)\n",
        "    print(response)"
      ],
      "metadata": {
        "colab": {
          "base_uri": "https://localhost:8080/",
          "height": 520
        },
        "id": "Zvv9zM1NkeoZ",
        "outputId": "2edad497-d447-4377-d0d2-7ec7e3e282cd"
      },
      "execution_count": 6,
      "outputs": [
        {
          "output_type": "stream",
          "name": "stdout",
          "text": [
            "1. The correct answer is A) Each calendar quarter, with samples collected during the same month.\n",
            "2. The correct answer is c) The sample sites should be representative of water throughout the distribution system.\n",
            "3. The correct answer is b) One sample per month\n",
            "4. The correct answer is c) The tenth day of the following month.\n",
            "5. The correct answer is d) The public water system must notify the State Board within 24 hours and notify the public.\n",
            "6. The correct answer is c) Three\n",
            "7. The correct answer is b) At least five service connections upstream or downstream of the original site.\n",
            "8. The correct answer is d) All of the above\n"
          ]
        },
        {
          "output_type": "error",
          "ename": "RateLimitError",
          "evalue": "ignored",
          "traceback": [
            "\u001b[0;31m---------------------------------------------------------------------------\u001b[0m",
            "\u001b[0;31mRateLimitError\u001b[0m                            Traceback (most recent call last)",
            "\u001b[0;32m<ipython-input-6-cc6998b47d23>\u001b[0m in \u001b[0;36m<cell line: 1>\u001b[0;34m()\u001b[0m\n\u001b[1;32m     11\u001b[0m     \u001b[0mCalifornia\u001b[0m \u001b[0mdrinking\u001b[0m \u001b[0mwater\u001b[0m \u001b[0mregulations\u001b[0m\u001b[0;34m:\u001b[0m\u001b[0;31m \u001b[0m\u001b[0;31m`\u001b[0m\u001b[0;31m`\u001b[0m\u001b[0;31m`\u001b[0m\u001b[0;34m{\u001b[0m\u001b[0mcalregs\u001b[0m\u001b[0;34m}\u001b[0m\u001b[0;31m`\u001b[0m\u001b[0;31m`\u001b[0m\u001b[0;31m`\u001b[0m\u001b[0;34m\u001b[0m\u001b[0;34m\u001b[0m\u001b[0m\n\u001b[1;32m     12\u001b[0m     \"\"\"\n\u001b[0;32m---> 13\u001b[0;31m     \u001b[0mresponse\u001b[0m \u001b[0;34m=\u001b[0m \u001b[0mget_completion\u001b[0m\u001b[0;34m(\u001b[0m\u001b[0mprompt\u001b[0m\u001b[0;34m)\u001b[0m\u001b[0;34m\u001b[0m\u001b[0;34m\u001b[0m\u001b[0m\n\u001b[0m\u001b[1;32m     14\u001b[0m     \u001b[0mprint\u001b[0m\u001b[0;34m(\u001b[0m\u001b[0mresponse\u001b[0m\u001b[0;34m)\u001b[0m\u001b[0;34m\u001b[0m\u001b[0;34m\u001b[0m\u001b[0m\n",
            "\u001b[0;32m<ipython-input-3-9549e088bda3>\u001b[0m in \u001b[0;36mget_completion\u001b[0;34m(prompt, model)\u001b[0m\n\u001b[1;32m      2\u001b[0m \u001b[0;32mdef\u001b[0m \u001b[0mget_completion\u001b[0m\u001b[0;34m(\u001b[0m\u001b[0mprompt\u001b[0m\u001b[0;34m,\u001b[0m \u001b[0mmodel\u001b[0m\u001b[0;34m=\u001b[0m\u001b[0;34m\"gpt-4\"\u001b[0m\u001b[0;34m)\u001b[0m\u001b[0;34m:\u001b[0m\u001b[0;34m\u001b[0m\u001b[0;34m\u001b[0m\u001b[0m\n\u001b[1;32m      3\u001b[0m     \u001b[0mmessages\u001b[0m \u001b[0;34m=\u001b[0m \u001b[0;34m[\u001b[0m\u001b[0;34m{\u001b[0m\u001b[0;34m\"role\"\u001b[0m\u001b[0;34m:\u001b[0m \u001b[0;34m\"user\"\u001b[0m\u001b[0;34m,\u001b[0m \u001b[0;34m\"content\"\u001b[0m\u001b[0;34m:\u001b[0m \u001b[0mprompt\u001b[0m\u001b[0;34m}\u001b[0m\u001b[0;34m]\u001b[0m\u001b[0;34m\u001b[0m\u001b[0;34m\u001b[0m\u001b[0m\n\u001b[0;32m----> 4\u001b[0;31m     response = openai.ChatCompletion.create(\n\u001b[0m\u001b[1;32m      5\u001b[0m         \u001b[0mmodel\u001b[0m\u001b[0;34m=\u001b[0m\u001b[0mmodel\u001b[0m\u001b[0;34m,\u001b[0m\u001b[0;34m\u001b[0m\u001b[0;34m\u001b[0m\u001b[0m\n\u001b[1;32m      6\u001b[0m         \u001b[0mmessages\u001b[0m\u001b[0;34m=\u001b[0m\u001b[0mmessages\u001b[0m\u001b[0;34m,\u001b[0m\u001b[0;34m\u001b[0m\u001b[0;34m\u001b[0m\u001b[0m\n",
            "\u001b[0;32m/usr/local/lib/python3.10/dist-packages/openai/api_resources/chat_completion.py\u001b[0m in \u001b[0;36mcreate\u001b[0;34m(cls, *args, **kwargs)\u001b[0m\n\u001b[1;32m     23\u001b[0m         \u001b[0;32mwhile\u001b[0m \u001b[0;32mTrue\u001b[0m\u001b[0;34m:\u001b[0m\u001b[0;34m\u001b[0m\u001b[0;34m\u001b[0m\u001b[0m\n\u001b[1;32m     24\u001b[0m             \u001b[0;32mtry\u001b[0m\u001b[0;34m:\u001b[0m\u001b[0;34m\u001b[0m\u001b[0;34m\u001b[0m\u001b[0m\n\u001b[0;32m---> 25\u001b[0;31m                 \u001b[0;32mreturn\u001b[0m \u001b[0msuper\u001b[0m\u001b[0;34m(\u001b[0m\u001b[0;34m)\u001b[0m\u001b[0;34m.\u001b[0m\u001b[0mcreate\u001b[0m\u001b[0;34m(\u001b[0m\u001b[0;34m*\u001b[0m\u001b[0margs\u001b[0m\u001b[0;34m,\u001b[0m \u001b[0;34m**\u001b[0m\u001b[0mkwargs\u001b[0m\u001b[0;34m)\u001b[0m\u001b[0;34m\u001b[0m\u001b[0;34m\u001b[0m\u001b[0m\n\u001b[0m\u001b[1;32m     26\u001b[0m             \u001b[0;32mexcept\u001b[0m \u001b[0mTryAgain\u001b[0m \u001b[0;32mas\u001b[0m \u001b[0me\u001b[0m\u001b[0;34m:\u001b[0m\u001b[0;34m\u001b[0m\u001b[0;34m\u001b[0m\u001b[0m\n\u001b[1;32m     27\u001b[0m                 \u001b[0;32mif\u001b[0m \u001b[0mtimeout\u001b[0m \u001b[0;32mis\u001b[0m \u001b[0;32mnot\u001b[0m \u001b[0;32mNone\u001b[0m \u001b[0;32mand\u001b[0m \u001b[0mtime\u001b[0m\u001b[0;34m.\u001b[0m\u001b[0mtime\u001b[0m\u001b[0;34m(\u001b[0m\u001b[0;34m)\u001b[0m \u001b[0;34m>\u001b[0m \u001b[0mstart\u001b[0m \u001b[0;34m+\u001b[0m \u001b[0mtimeout\u001b[0m\u001b[0;34m:\u001b[0m\u001b[0;34m\u001b[0m\u001b[0;34m\u001b[0m\u001b[0m\n",
            "\u001b[0;32m/usr/local/lib/python3.10/dist-packages/openai/api_resources/abstract/engine_api_resource.py\u001b[0m in \u001b[0;36mcreate\u001b[0;34m(cls, api_key, api_base, api_type, request_id, api_version, organization, **params)\u001b[0m\n\u001b[1;32m    151\u001b[0m         )\n\u001b[1;32m    152\u001b[0m \u001b[0;34m\u001b[0m\u001b[0m\n\u001b[0;32m--> 153\u001b[0;31m         response, _, api_key = requestor.request(\n\u001b[0m\u001b[1;32m    154\u001b[0m             \u001b[0;34m\"post\"\u001b[0m\u001b[0;34m,\u001b[0m\u001b[0;34m\u001b[0m\u001b[0;34m\u001b[0m\u001b[0m\n\u001b[1;32m    155\u001b[0m             \u001b[0murl\u001b[0m\u001b[0;34m,\u001b[0m\u001b[0;34m\u001b[0m\u001b[0;34m\u001b[0m\u001b[0m\n",
            "\u001b[0;32m/usr/local/lib/python3.10/dist-packages/openai/api_requestor.py\u001b[0m in \u001b[0;36mrequest\u001b[0;34m(self, method, url, params, headers, files, stream, request_id, request_timeout)\u001b[0m\n\u001b[1;32m    228\u001b[0m             \u001b[0mrequest_timeout\u001b[0m\u001b[0;34m=\u001b[0m\u001b[0mrequest_timeout\u001b[0m\u001b[0;34m,\u001b[0m\u001b[0;34m\u001b[0m\u001b[0;34m\u001b[0m\u001b[0m\n\u001b[1;32m    229\u001b[0m         )\n\u001b[0;32m--> 230\u001b[0;31m         \u001b[0mresp\u001b[0m\u001b[0;34m,\u001b[0m \u001b[0mgot_stream\u001b[0m \u001b[0;34m=\u001b[0m \u001b[0mself\u001b[0m\u001b[0;34m.\u001b[0m\u001b[0m_interpret_response\u001b[0m\u001b[0;34m(\u001b[0m\u001b[0mresult\u001b[0m\u001b[0;34m,\u001b[0m \u001b[0mstream\u001b[0m\u001b[0;34m)\u001b[0m\u001b[0;34m\u001b[0m\u001b[0;34m\u001b[0m\u001b[0m\n\u001b[0m\u001b[1;32m    231\u001b[0m         \u001b[0;32mreturn\u001b[0m \u001b[0mresp\u001b[0m\u001b[0;34m,\u001b[0m \u001b[0mgot_stream\u001b[0m\u001b[0;34m,\u001b[0m \u001b[0mself\u001b[0m\u001b[0;34m.\u001b[0m\u001b[0mapi_key\u001b[0m\u001b[0;34m\u001b[0m\u001b[0;34m\u001b[0m\u001b[0m\n\u001b[1;32m    232\u001b[0m \u001b[0;34m\u001b[0m\u001b[0m\n",
            "\u001b[0;32m/usr/local/lib/python3.10/dist-packages/openai/api_requestor.py\u001b[0m in \u001b[0;36m_interpret_response\u001b[0;34m(self, result, stream)\u001b[0m\n\u001b[1;32m    622\u001b[0m         \u001b[0;32melse\u001b[0m\u001b[0;34m:\u001b[0m\u001b[0;34m\u001b[0m\u001b[0;34m\u001b[0m\u001b[0m\n\u001b[1;32m    623\u001b[0m             return (\n\u001b[0;32m--> 624\u001b[0;31m                 self._interpret_response_line(\n\u001b[0m\u001b[1;32m    625\u001b[0m                     \u001b[0mresult\u001b[0m\u001b[0;34m.\u001b[0m\u001b[0mcontent\u001b[0m\u001b[0;34m.\u001b[0m\u001b[0mdecode\u001b[0m\u001b[0;34m(\u001b[0m\u001b[0;34m\"utf-8\"\u001b[0m\u001b[0;34m)\u001b[0m\u001b[0;34m,\u001b[0m\u001b[0;34m\u001b[0m\u001b[0;34m\u001b[0m\u001b[0m\n\u001b[1;32m    626\u001b[0m                     \u001b[0mresult\u001b[0m\u001b[0;34m.\u001b[0m\u001b[0mstatus_code\u001b[0m\u001b[0;34m,\u001b[0m\u001b[0;34m\u001b[0m\u001b[0;34m\u001b[0m\u001b[0m\n",
            "\u001b[0;32m/usr/local/lib/python3.10/dist-packages/openai/api_requestor.py\u001b[0m in \u001b[0;36m_interpret_response_line\u001b[0;34m(self, rbody, rcode, rheaders, stream)\u001b[0m\n\u001b[1;32m    685\u001b[0m         \u001b[0mstream_error\u001b[0m \u001b[0;34m=\u001b[0m \u001b[0mstream\u001b[0m \u001b[0;32mand\u001b[0m \u001b[0;34m\"error\"\u001b[0m \u001b[0;32min\u001b[0m \u001b[0mresp\u001b[0m\u001b[0;34m.\u001b[0m\u001b[0mdata\u001b[0m\u001b[0;34m\u001b[0m\u001b[0;34m\u001b[0m\u001b[0m\n\u001b[1;32m    686\u001b[0m         \u001b[0;32mif\u001b[0m \u001b[0mstream_error\u001b[0m \u001b[0;32mor\u001b[0m \u001b[0;32mnot\u001b[0m \u001b[0;36m200\u001b[0m \u001b[0;34m<=\u001b[0m \u001b[0mrcode\u001b[0m \u001b[0;34m<\u001b[0m \u001b[0;36m300\u001b[0m\u001b[0;34m:\u001b[0m\u001b[0;34m\u001b[0m\u001b[0;34m\u001b[0m\u001b[0m\n\u001b[0;32m--> 687\u001b[0;31m             raise self.handle_error_response(\n\u001b[0m\u001b[1;32m    688\u001b[0m                 \u001b[0mrbody\u001b[0m\u001b[0;34m,\u001b[0m \u001b[0mrcode\u001b[0m\u001b[0;34m,\u001b[0m \u001b[0mresp\u001b[0m\u001b[0;34m.\u001b[0m\u001b[0mdata\u001b[0m\u001b[0;34m,\u001b[0m \u001b[0mrheaders\u001b[0m\u001b[0;34m,\u001b[0m \u001b[0mstream_error\u001b[0m\u001b[0;34m=\u001b[0m\u001b[0mstream_error\u001b[0m\u001b[0;34m\u001b[0m\u001b[0;34m\u001b[0m\u001b[0m\n\u001b[1;32m    689\u001b[0m             )\n",
            "\u001b[0;31mRateLimitError\u001b[0m: Rate limit reached for default-gpt-4 in organization org-XPCCwXFAbMfQ7DQqe8XSiVAK on tokens per min. Limit: 40000 / min. Please try again in 1ms. Contact us through our help center at help.openai.com if you continue to have issues."
          ]
        }
      ]
    },
    {
      "cell_type": "markdown",
      "source": [
        "Continue from question 9 and reached rate limit at question 17"
      ],
      "metadata": {
        "id": "QMQ9_aKUKdu3"
      }
    },
    {
      "cell_type": "code",
      "source": [
        "for question in questions[8: 20]:\n",
        "    prompt = f\"\"\"\n",
        "    Your task is to select the correct answer choice for a multiple choices question based \n",
        "    on a section of California drinking water regulations. Each question will have 4 answer choices.\n",
        "\n",
        "    Select the correct answer choise for the multiple choices question provided in the Questions delimited by \n",
        "    double backticks, based on the information provided in the California drinking water regulations delimited by \n",
        "    triple backticks.\n",
        "    Give answer in the following format: <ordered question number>. The correct answer is <choice>.\n",
        "    Questions: ``{question}``\n",
        "    California drinking water regulations: ```{calregs}```\n",
        "    \"\"\"\n",
        "    response = get_completion(prompt)\n",
        "    print(response)"
      ],
      "metadata": {
        "colab": {
          "base_uri": "https://localhost:8080/",
          "height": 557
        },
        "id": "8zR8CFuLF8PR",
        "outputId": "ce76d7b5-014f-49b5-c133-ffb2f22d27e3"
      },
      "execution_count": 7,
      "outputs": [
        {
          "output_type": "stream",
          "name": "stdout",
          "text": [
            "9. The correct answer is C) Collect a replacement sample from the same location as the original sample within 24 hours of being notified of the interference problem.\n",
            "10. The correct answer is B) It does not count towards meeting the minimum routine and repeat sample monitoring requirements.\n",
            "11. The correct answer is b) A total coliform-positive routine sample followed by two total coliform-positive repeat samples\n",
            "12. The correct answer is c) Contact the State Board by the end of the day and conduct an investigation within 24 hours.\n",
            "13. The correct answer is d) All of the above\n",
            "14. The correct answer is b) When a public water system exceeds a treatment technique trigger specified in Section 64426.7 and then fails to conduct the required assessment or corrective actions within the timeframe specified in Section 64426.8.\n",
            "15. The correct answer is d) The system will be required to notify the public pursuant to Sections 64463, 64463.4, and 64465.\n",
            "16. The correct answer is b) For a system taking fewer than 40 samples per month, the system has two or more total coliform-positive samples in the same month.\n",
            "17. The correct answer is c) The system has an E. coli MCL violation.\n"
          ]
        },
        {
          "output_type": "error",
          "ename": "RateLimitError",
          "evalue": "ignored",
          "traceback": [
            "\u001b[0;31m---------------------------------------------------------------------------\u001b[0m",
            "\u001b[0;31mRateLimitError\u001b[0m                            Traceback (most recent call last)",
            "\u001b[0;32m<ipython-input-7-2cde2518c424>\u001b[0m in \u001b[0;36m<cell line: 1>\u001b[0;34m()\u001b[0m\n\u001b[1;32m     11\u001b[0m     \u001b[0mCalifornia\u001b[0m \u001b[0mdrinking\u001b[0m \u001b[0mwater\u001b[0m \u001b[0mregulations\u001b[0m\u001b[0;34m:\u001b[0m\u001b[0;31m \u001b[0m\u001b[0;31m`\u001b[0m\u001b[0;31m`\u001b[0m\u001b[0;31m`\u001b[0m\u001b[0;34m{\u001b[0m\u001b[0mcalregs\u001b[0m\u001b[0;34m}\u001b[0m\u001b[0;31m`\u001b[0m\u001b[0;31m`\u001b[0m\u001b[0;31m`\u001b[0m\u001b[0;34m\u001b[0m\u001b[0;34m\u001b[0m\u001b[0m\n\u001b[1;32m     12\u001b[0m     \"\"\"\n\u001b[0;32m---> 13\u001b[0;31m     \u001b[0mresponse\u001b[0m \u001b[0;34m=\u001b[0m \u001b[0mget_completion\u001b[0m\u001b[0;34m(\u001b[0m\u001b[0mprompt\u001b[0m\u001b[0;34m)\u001b[0m\u001b[0;34m\u001b[0m\u001b[0;34m\u001b[0m\u001b[0m\n\u001b[0m\u001b[1;32m     14\u001b[0m     \u001b[0mprint\u001b[0m\u001b[0;34m(\u001b[0m\u001b[0mresponse\u001b[0m\u001b[0;34m)\u001b[0m\u001b[0;34m\u001b[0m\u001b[0;34m\u001b[0m\u001b[0m\n",
            "\u001b[0;32m<ipython-input-3-9549e088bda3>\u001b[0m in \u001b[0;36mget_completion\u001b[0;34m(prompt, model)\u001b[0m\n\u001b[1;32m      2\u001b[0m \u001b[0;32mdef\u001b[0m \u001b[0mget_completion\u001b[0m\u001b[0;34m(\u001b[0m\u001b[0mprompt\u001b[0m\u001b[0;34m,\u001b[0m \u001b[0mmodel\u001b[0m\u001b[0;34m=\u001b[0m\u001b[0;34m\"gpt-4\"\u001b[0m\u001b[0;34m)\u001b[0m\u001b[0;34m:\u001b[0m\u001b[0;34m\u001b[0m\u001b[0;34m\u001b[0m\u001b[0m\n\u001b[1;32m      3\u001b[0m     \u001b[0mmessages\u001b[0m \u001b[0;34m=\u001b[0m \u001b[0;34m[\u001b[0m\u001b[0;34m{\u001b[0m\u001b[0;34m\"role\"\u001b[0m\u001b[0;34m:\u001b[0m \u001b[0;34m\"user\"\u001b[0m\u001b[0;34m,\u001b[0m \u001b[0;34m\"content\"\u001b[0m\u001b[0;34m:\u001b[0m \u001b[0mprompt\u001b[0m\u001b[0;34m}\u001b[0m\u001b[0;34m]\u001b[0m\u001b[0;34m\u001b[0m\u001b[0;34m\u001b[0m\u001b[0m\n\u001b[0;32m----> 4\u001b[0;31m     response = openai.ChatCompletion.create(\n\u001b[0m\u001b[1;32m      5\u001b[0m         \u001b[0mmodel\u001b[0m\u001b[0;34m=\u001b[0m\u001b[0mmodel\u001b[0m\u001b[0;34m,\u001b[0m\u001b[0;34m\u001b[0m\u001b[0;34m\u001b[0m\u001b[0m\n\u001b[1;32m      6\u001b[0m         \u001b[0mmessages\u001b[0m\u001b[0;34m=\u001b[0m\u001b[0mmessages\u001b[0m\u001b[0;34m,\u001b[0m\u001b[0;34m\u001b[0m\u001b[0;34m\u001b[0m\u001b[0m\n",
            "\u001b[0;32m/usr/local/lib/python3.10/dist-packages/openai/api_resources/chat_completion.py\u001b[0m in \u001b[0;36mcreate\u001b[0;34m(cls, *args, **kwargs)\u001b[0m\n\u001b[1;32m     23\u001b[0m         \u001b[0;32mwhile\u001b[0m \u001b[0;32mTrue\u001b[0m\u001b[0;34m:\u001b[0m\u001b[0;34m\u001b[0m\u001b[0;34m\u001b[0m\u001b[0m\n\u001b[1;32m     24\u001b[0m             \u001b[0;32mtry\u001b[0m\u001b[0;34m:\u001b[0m\u001b[0;34m\u001b[0m\u001b[0;34m\u001b[0m\u001b[0m\n\u001b[0;32m---> 25\u001b[0;31m                 \u001b[0;32mreturn\u001b[0m \u001b[0msuper\u001b[0m\u001b[0;34m(\u001b[0m\u001b[0;34m)\u001b[0m\u001b[0;34m.\u001b[0m\u001b[0mcreate\u001b[0m\u001b[0;34m(\u001b[0m\u001b[0;34m*\u001b[0m\u001b[0margs\u001b[0m\u001b[0;34m,\u001b[0m \u001b[0;34m**\u001b[0m\u001b[0mkwargs\u001b[0m\u001b[0;34m)\u001b[0m\u001b[0;34m\u001b[0m\u001b[0;34m\u001b[0m\u001b[0m\n\u001b[0m\u001b[1;32m     26\u001b[0m             \u001b[0;32mexcept\u001b[0m \u001b[0mTryAgain\u001b[0m \u001b[0;32mas\u001b[0m \u001b[0me\u001b[0m\u001b[0;34m:\u001b[0m\u001b[0;34m\u001b[0m\u001b[0;34m\u001b[0m\u001b[0m\n\u001b[1;32m     27\u001b[0m                 \u001b[0;32mif\u001b[0m \u001b[0mtimeout\u001b[0m \u001b[0;32mis\u001b[0m \u001b[0;32mnot\u001b[0m \u001b[0;32mNone\u001b[0m \u001b[0;32mand\u001b[0m \u001b[0mtime\u001b[0m\u001b[0;34m.\u001b[0m\u001b[0mtime\u001b[0m\u001b[0;34m(\u001b[0m\u001b[0;34m)\u001b[0m \u001b[0;34m>\u001b[0m \u001b[0mstart\u001b[0m \u001b[0;34m+\u001b[0m \u001b[0mtimeout\u001b[0m\u001b[0;34m:\u001b[0m\u001b[0;34m\u001b[0m\u001b[0;34m\u001b[0m\u001b[0m\n",
            "\u001b[0;32m/usr/local/lib/python3.10/dist-packages/openai/api_resources/abstract/engine_api_resource.py\u001b[0m in \u001b[0;36mcreate\u001b[0;34m(cls, api_key, api_base, api_type, request_id, api_version, organization, **params)\u001b[0m\n\u001b[1;32m    151\u001b[0m         )\n\u001b[1;32m    152\u001b[0m \u001b[0;34m\u001b[0m\u001b[0m\n\u001b[0;32m--> 153\u001b[0;31m         response, _, api_key = requestor.request(\n\u001b[0m\u001b[1;32m    154\u001b[0m             \u001b[0;34m\"post\"\u001b[0m\u001b[0;34m,\u001b[0m\u001b[0;34m\u001b[0m\u001b[0;34m\u001b[0m\u001b[0m\n\u001b[1;32m    155\u001b[0m             \u001b[0murl\u001b[0m\u001b[0;34m,\u001b[0m\u001b[0;34m\u001b[0m\u001b[0;34m\u001b[0m\u001b[0m\n",
            "\u001b[0;32m/usr/local/lib/python3.10/dist-packages/openai/api_requestor.py\u001b[0m in \u001b[0;36mrequest\u001b[0;34m(self, method, url, params, headers, files, stream, request_id, request_timeout)\u001b[0m\n\u001b[1;32m    228\u001b[0m             \u001b[0mrequest_timeout\u001b[0m\u001b[0;34m=\u001b[0m\u001b[0mrequest_timeout\u001b[0m\u001b[0;34m,\u001b[0m\u001b[0;34m\u001b[0m\u001b[0;34m\u001b[0m\u001b[0m\n\u001b[1;32m    229\u001b[0m         )\n\u001b[0;32m--> 230\u001b[0;31m         \u001b[0mresp\u001b[0m\u001b[0;34m,\u001b[0m \u001b[0mgot_stream\u001b[0m \u001b[0;34m=\u001b[0m \u001b[0mself\u001b[0m\u001b[0;34m.\u001b[0m\u001b[0m_interpret_response\u001b[0m\u001b[0;34m(\u001b[0m\u001b[0mresult\u001b[0m\u001b[0;34m,\u001b[0m \u001b[0mstream\u001b[0m\u001b[0;34m)\u001b[0m\u001b[0;34m\u001b[0m\u001b[0;34m\u001b[0m\u001b[0m\n\u001b[0m\u001b[1;32m    231\u001b[0m         \u001b[0;32mreturn\u001b[0m \u001b[0mresp\u001b[0m\u001b[0;34m,\u001b[0m \u001b[0mgot_stream\u001b[0m\u001b[0;34m,\u001b[0m \u001b[0mself\u001b[0m\u001b[0;34m.\u001b[0m\u001b[0mapi_key\u001b[0m\u001b[0;34m\u001b[0m\u001b[0;34m\u001b[0m\u001b[0m\n\u001b[1;32m    232\u001b[0m \u001b[0;34m\u001b[0m\u001b[0m\n",
            "\u001b[0;32m/usr/local/lib/python3.10/dist-packages/openai/api_requestor.py\u001b[0m in \u001b[0;36m_interpret_response\u001b[0;34m(self, result, stream)\u001b[0m\n\u001b[1;32m    622\u001b[0m         \u001b[0;32melse\u001b[0m\u001b[0;34m:\u001b[0m\u001b[0;34m\u001b[0m\u001b[0;34m\u001b[0m\u001b[0m\n\u001b[1;32m    623\u001b[0m             return (\n\u001b[0;32m--> 624\u001b[0;31m                 self._interpret_response_line(\n\u001b[0m\u001b[1;32m    625\u001b[0m                     \u001b[0mresult\u001b[0m\u001b[0;34m.\u001b[0m\u001b[0mcontent\u001b[0m\u001b[0;34m.\u001b[0m\u001b[0mdecode\u001b[0m\u001b[0;34m(\u001b[0m\u001b[0;34m\"utf-8\"\u001b[0m\u001b[0;34m)\u001b[0m\u001b[0;34m,\u001b[0m\u001b[0;34m\u001b[0m\u001b[0;34m\u001b[0m\u001b[0m\n\u001b[1;32m    626\u001b[0m                     \u001b[0mresult\u001b[0m\u001b[0;34m.\u001b[0m\u001b[0mstatus_code\u001b[0m\u001b[0;34m,\u001b[0m\u001b[0;34m\u001b[0m\u001b[0;34m\u001b[0m\u001b[0m\n",
            "\u001b[0;32m/usr/local/lib/python3.10/dist-packages/openai/api_requestor.py\u001b[0m in \u001b[0;36m_interpret_response_line\u001b[0;34m(self, rbody, rcode, rheaders, stream)\u001b[0m\n\u001b[1;32m    685\u001b[0m         \u001b[0mstream_error\u001b[0m \u001b[0;34m=\u001b[0m \u001b[0mstream\u001b[0m \u001b[0;32mand\u001b[0m \u001b[0;34m\"error\"\u001b[0m \u001b[0;32min\u001b[0m \u001b[0mresp\u001b[0m\u001b[0;34m.\u001b[0m\u001b[0mdata\u001b[0m\u001b[0;34m\u001b[0m\u001b[0;34m\u001b[0m\u001b[0m\n\u001b[1;32m    686\u001b[0m         \u001b[0;32mif\u001b[0m \u001b[0mstream_error\u001b[0m \u001b[0;32mor\u001b[0m \u001b[0;32mnot\u001b[0m \u001b[0;36m200\u001b[0m \u001b[0;34m<=\u001b[0m \u001b[0mrcode\u001b[0m \u001b[0;34m<\u001b[0m \u001b[0;36m300\u001b[0m\u001b[0;34m:\u001b[0m\u001b[0;34m\u001b[0m\u001b[0;34m\u001b[0m\u001b[0m\n\u001b[0;32m--> 687\u001b[0;31m             raise self.handle_error_response(\n\u001b[0m\u001b[1;32m    688\u001b[0m                 \u001b[0mrbody\u001b[0m\u001b[0;34m,\u001b[0m \u001b[0mrcode\u001b[0m\u001b[0;34m,\u001b[0m \u001b[0mresp\u001b[0m\u001b[0;34m.\u001b[0m\u001b[0mdata\u001b[0m\u001b[0;34m,\u001b[0m \u001b[0mrheaders\u001b[0m\u001b[0;34m,\u001b[0m \u001b[0mstream_error\u001b[0m\u001b[0;34m=\u001b[0m\u001b[0mstream_error\u001b[0m\u001b[0;34m\u001b[0m\u001b[0;34m\u001b[0m\u001b[0m\n\u001b[1;32m    689\u001b[0m             )\n",
            "\u001b[0;31mRateLimitError\u001b[0m: Rate limit reached for default-gpt-4 in organization org-XPCCwXFAbMfQ7DQqe8XSiVAK on tokens per min. Limit: 40000 / min. Please try again in 1ms. Contact us through our help center at help.openai.com if you continue to have issues."
          ]
        }
      ]
    },
    {
      "cell_type": "markdown",
      "source": [
        "Completed the remaining questions"
      ],
      "metadata": {
        "id": "2LSyhA7FVxvZ"
      }
    },
    {
      "cell_type": "code",
      "source": [
        "for question in questions[17: 20]:\n",
        "    prompt = f\"\"\"\n",
        "    Your task is to select the correct answer choice for a multiple choices question based \n",
        "    on a section of California drinking water regulations. Each question will have 4 answer choices.\n",
        "\n",
        "    Select the correct answer choise for the multiple choices question provided in the Questions delimited by \n",
        "    double backticks, based on the information provided in the California drinking water regulations delimited by \n",
        "    triple backticks.\n",
        "    Give answer in the following format: <ordered question number>. The correct answer is <choice>.\n",
        "    Questions: ``{question}``\n",
        "    California drinking water regulations: ```{calregs}```\n",
        "    \"\"\"\n",
        "    response = get_completion(prompt)\n",
        "    print(response)"
      ],
      "metadata": {
        "colab": {
          "base_uri": "https://localhost:8080/"
        },
        "id": "msiYQy0hJN5r",
        "outputId": "49e6750b-b15d-46bc-a065-70709556379e"
      },
      "execution_count": 8,
      "outputs": [
        {
          "output_type": "stream",
          "name": "stdout",
          "text": [
            "18. The correct answer is a) To identify the possible presence of sanitary defects and defects in distribution system coliform monitoring practices\n",
            "19. The correct answer is c) Within 30 days\n",
            "20. The correct answer is d) All of the above.\n"
          ]
        }
      ]
    },
    {
      "cell_type": "markdown",
      "source": [
        "#Test 2"
      ],
      "metadata": {
        "id": "sgcA6ylIKndV"
      }
    },
    {
      "cell_type": "markdown",
      "source": [
        "First batch of 7 questions"
      ],
      "metadata": {
        "id": "KlTcIWWdV_o0"
      }
    },
    {
      "cell_type": "code",
      "source": [
        "for question in questions[0: 7]:\n",
        "    prompt = f\"\"\"\n",
        "    Your task is to select the correct answer choice for a multiple choices question based \n",
        "    on a section of California drinking water regulations. Each question will have 4 answer choices.\n",
        "\n",
        "    Select the correct answer choise for the multiple choices question provided in the Questions delimited by \n",
        "    double backticks, based on the information provided in the California drinking water regulations delimited by \n",
        "    triple backticks.\n",
        "    Give answer in the following format: <ordered question number>. The correct answer is <choice>.\n",
        "    Questions: ``{question}``\n",
        "    California drinking water regulations: ```{calregs}```\n",
        "    \"\"\"\n",
        "    response = get_completion(prompt)\n",
        "    print(response)"
      ],
      "metadata": {
        "colab": {
          "base_uri": "https://localhost:8080/"
        },
        "id": "ueZXhCDeKw1T",
        "outputId": "c30a6161-5288-4868-f6e6-10a71b68d339"
      },
      "execution_count": 9,
      "outputs": [
        {
          "output_type": "stream",
          "name": "stdout",
          "text": [
            "1. The correct answer is A) Each calendar quarter, with samples collected during the same month.\n",
            "2. The correct answer is c) The sample sites should be representative of water throughout the distribution system.\n",
            "3. The correct answer is b) One sample per month.\n",
            "4. The correct answer is c) The tenth day of the following month.\n",
            "5. The correct answer is d) The public water system must notify the State Board within 24 hours and notify the public.\n",
            "6. The correct answer is c) Three\n",
            "7. The correct answer is d) At least one repeat sample should be from upstream and one from downstream unless there is no upstream and/or downstream service connection.\n"
          ]
        }
      ]
    },
    {
      "cell_type": "markdown",
      "source": [
        "2nd batch of questions"
      ],
      "metadata": {
        "id": "N88Li-ZQWH5g"
      }
    },
    {
      "cell_type": "code",
      "source": [
        "for question in questions[9: 16]:\n",
        "    prompt = f\"\"\"\n",
        "    Your task is to select the correct answer choice for a multiple choices question based \n",
        "    on a section of California drinking water regulations. Each question will have 4 answer choices.\n",
        "\n",
        "    Select the correct answer choise for the multiple choices question provided in the Questions delimited by \n",
        "    double backticks, based on the information provided in the California drinking water regulations delimited by \n",
        "    triple backticks.\n",
        "    Give answer in the following format: <ordered question number>. The correct answer is <choice>.\n",
        "    Questions: ``{question}``\n",
        "    California drinking water regulations: ```{calregs}```\n",
        "    \"\"\"\n",
        "    response = get_completion(prompt)\n",
        "    print(response)"
      ],
      "metadata": {
        "colab": {
          "base_uri": "https://localhost:8080/"
        },
        "id": "Vt9XdUR6Lnjv",
        "outputId": "dd2eb110-466c-4326-ec4d-4e5e8f2a1e1d"
      },
      "execution_count": 10,
      "outputs": [
        {
          "output_type": "stream",
          "name": "stdout",
          "text": [
            "10. The correct answer is B) It does not count towards meeting the minimum routine and repeat sample monitoring requirements.\n",
            "11. The correct answer is b) A total coliform-positive routine sample followed by two total coliform-positive repeat samples\n",
            "12. The correct answer is c) Contact the State Board by the end of the day and conduct an investigation within 24 hours.\n",
            "13. The correct answer is d) All of the above\n",
            "14. The correct answer is a) When a public water system fails to complete a State Board-approved start-up procedure prior to serving water to the public.\n",
            "15. The correct answer is d) The system will be required to notify the public pursuant to Sections 64463, 64463.4, and 64465.\n",
            "16. The correct answer is b) For a system taking fewer than 40 samples per month, the system has two or more total coliform-positive samples in the same month.\n"
          ]
        }
      ]
    },
    {
      "cell_type": "markdown",
      "source": [
        "3rd batch of questions"
      ],
      "metadata": {
        "id": "bi5-9MK_WMc1"
      }
    },
    {
      "cell_type": "code",
      "source": [
        "for question in questions[7: 9]:\n",
        "    prompt = f\"\"\"\n",
        "    Your task is to select the correct answer choice for a multiple choices question based \n",
        "    on a section of California drinking water regulations. Each question will have 4 answer choices.\n",
        "\n",
        "    Select the correct answer choise for the multiple choices question provided in the Questions delimited by \n",
        "    double backticks, based on the information provided in the California drinking water regulations delimited by \n",
        "    triple backticks.\n",
        "    Give answer in the following format: <ordered question number>. The correct answer is <choice>.\n",
        "    Questions: ``{question}``\n",
        "    California drinking water regulations: ```{calregs}```\n",
        "    \"\"\"\n",
        "    response = get_completion(prompt)\n",
        "    print(response)"
      ],
      "metadata": {
        "colab": {
          "base_uri": "https://localhost:8080/"
        },
        "id": "wO7_GLMZM9Ng",
        "outputId": "00885fbf-d3fa-4058-8b51-665e45a74c0a"
      },
      "execution_count": 11,
      "outputs": [
        {
          "output_type": "stream",
          "name": "stdout",
          "text": [
            "8. The correct answer is d) All of the above\n",
            "9. The correct answer is C) Collect a replacement sample from the same location as the original sample within 24 hours of being notified of the interference problem.\n"
          ]
        }
      ]
    },
    {
      "cell_type": "markdown",
      "source": [
        "The remaining questions of Test 2"
      ],
      "metadata": {
        "id": "l4v7OHBKWSQF"
      }
    },
    {
      "cell_type": "code",
      "source": [
        "for question in questions[16: 20]:\n",
        "    prompt = f\"\"\"\n",
        "    Your task is to select the correct answer choice for a multiple choices question based \n",
        "    on a section of California drinking water regulations. Each question will have 4 answer choices.\n",
        "\n",
        "    Select the correct answer choise for the multiple choices question provided in the Questions delimited by \n",
        "    double backticks, based on the information provided in the California drinking water regulations delimited by \n",
        "    triple backticks.\n",
        "    Give answer in the following format: <ordered question number>. The correct answer is <choice>.\n",
        "    Questions: ``{question}``\n",
        "    California drinking water regulations: ```{calregs}```\n",
        "    \"\"\"\n",
        "    response = get_completion(prompt)\n",
        "    print(response)"
      ],
      "metadata": {
        "colab": {
          "base_uri": "https://localhost:8080/"
        },
        "id": "19ndEV5RNZnd",
        "outputId": "639b67b8-91da-480f-ac4e-cf1a9a14e80f"
      },
      "execution_count": 12,
      "outputs": [
        {
          "output_type": "stream",
          "name": "stdout",
          "text": [
            "17. The correct answer is c) The system has an E. coli MCL violation.\n",
            "18. The correct answer is a) To identify the possible presence of sanitary defects and defects in distribution system coliform monitoring practices\n",
            "19. The correct answer is c) Within 30 days\n",
            "20. The correct answer is d) All of the above.\n"
          ]
        }
      ]
    },
    {
      "cell_type": "markdown",
      "source": [
        "# Test 3\n"
      ],
      "metadata": {
        "id": "bPu2j4PxOx4x"
      }
    },
    {
      "cell_type": "markdown",
      "source": [
        "1st batch of 7 questions"
      ],
      "metadata": {
        "id": "GmisESwGWW8H"
      }
    },
    {
      "cell_type": "code",
      "source": [
        "for question in questions[0: 7]:\n",
        "    prompt = f\"\"\"\n",
        "    Your task is to select the correct answer choice for a multiple choices question based \n",
        "    on a section of California drinking water regulations. Each question will have 4 answer choices.\n",
        "\n",
        "    Select the correct answer choise for the multiple choices question provided in the Questions delimited by \n",
        "    double backticks, based on the information provided in the California drinking water regulations delimited by \n",
        "    triple backticks.\n",
        "    Give answer in the following format: <ordered question number>. The correct answer is <choice>.\n",
        "    Questions: ``{question}``\n",
        "    California drinking water regulations: ```{calregs}```\n",
        "    \"\"\"\n",
        "    response = get_completion(prompt)\n",
        "    print(response)"
      ],
      "metadata": {
        "colab": {
          "base_uri": "https://localhost:8080/"
        },
        "id": "xi6Hk8oGO2Fu",
        "outputId": "34adfa89-f6f5-4044-c207-bf23347a30f9"
      },
      "execution_count": 13,
      "outputs": [
        {
          "output_type": "stream",
          "name": "stdout",
          "text": [
            "1. The correct answer is A) Each calendar quarter, with samples collected during the same month.\n",
            "2. The correct answer is c) The sample sites should be representative of water throughout the distribution system.\n",
            "3. The correct answer is b) One sample per month\n",
            "4. The correct answer is c) The tenth day of the following month.\n",
            "5. The correct answer is d) The public water system must notify the State Board within 24 hours and notify the public.\n",
            "6. The correct answer is c) Three\n",
            "7. The correct answer is b) At least five service connections upstream or downstream of the original site\n"
          ]
        }
      ]
    },
    {
      "cell_type": "markdown",
      "source": [
        "2nd batch of questions"
      ],
      "metadata": {
        "id": "9RnrECtGWb-0"
      }
    },
    {
      "cell_type": "code",
      "source": [
        "for question in questions[7: 14]:\n",
        "    prompt = f\"\"\"\n",
        "    Your task is to select the correct answer choice for a multiple choices question based \n",
        "    on a section of California drinking water regulations. Each question will have 4 answer choices.\n",
        "\n",
        "    Select the correct answer choise for the multiple choices question provided in the Questions delimited by \n",
        "    double backticks, based on the information provided in the California drinking water regulations delimited by \n",
        "    triple backticks.\n",
        "    Give answer in the following format: <ordered question number>. The correct answer is <choice>.\n",
        "    Questions: ``{question}``\n",
        "    California drinking water regulations: ```{calregs}```\n",
        "    \"\"\"\n",
        "    response = get_completion(prompt)\n",
        "    print(response)"
      ],
      "metadata": {
        "colab": {
          "base_uri": "https://localhost:8080/"
        },
        "id": "DgybZc8wPn9t",
        "outputId": "9fd7382e-b067-48cf-82bc-0fd0cfa7a497"
      },
      "execution_count": 14,
      "outputs": [
        {
          "output_type": "stream",
          "name": "stdout",
          "text": [
            "8. The correct answer is d) All of the above\n",
            "9. The correct answer is C) Collect a replacement sample from the same location as the original sample within 24 hours of being notified of the interference problem.\n",
            "10. The correct answer is B) It does not count towards meeting the minimum routine and repeat sample monitoring requirements.\n",
            "11. The correct answer is b) A total coliform-positive routine sample followed by two total coliform-positive repeat samples\n",
            "12. The correct answer is c) Contact the State Board by the end of the day and conduct an investigation within 24 hours.\n",
            "13. The correct answer is d) All of the above\n",
            "14. The correct answer is b) When a public water system exceeds a treatment technique trigger specified in Section 64426.7 and then fails to conduct the required assessment or corrective actions within the timeframe specified in Section 64426.8.\n"
          ]
        }
      ]
    },
    {
      "cell_type": "markdown",
      "source": [
        "The remaining questions of Test 3"
      ],
      "metadata": {
        "id": "AlMpQkvoWnMV"
      }
    },
    {
      "cell_type": "code",
      "source": [
        "for question in questions[14: 20]:\n",
        "    prompt = f\"\"\"\n",
        "    Your task is to select the correct answer choice for a multiple choices question based \n",
        "    on a section of California drinking water regulations. Each question will have 4 answer choices.\n",
        "\n",
        "    Select the correct answer choise for the multiple choices question provided in the Questions delimited by \n",
        "    double backticks, based on the information provided in the California drinking water regulations delimited by \n",
        "    triple backticks.\n",
        "    Give answer in the following format: <ordered question number>. The correct answer is <choice>.\n",
        "    Questions: ``{question}``\n",
        "    California drinking water regulations: ```{calregs}```\n",
        "    \"\"\"\n",
        "    response = get_completion(prompt)\n",
        "    print(response)"
      ],
      "metadata": {
        "colab": {
          "base_uri": "https://localhost:8080/"
        },
        "id": "IkRRfoJfQecc",
        "outputId": "339796d8-21ca-4103-fe45-822d08a367ae"
      },
      "execution_count": 15,
      "outputs": [
        {
          "output_type": "stream",
          "name": "stdout",
          "text": [
            "15. The correct answer is d) The system will be required to notify the public pursuant to Sections 64463, 64463.4, and 64465.\n",
            "16. The correct answer is b) For a system taking fewer than 40 samples per month, the system has two or more total coliform-positive samples in the same month.\n",
            "17. The correct answer is c) The system has an E. coli MCL violation\n",
            "18. The correct answer is a) To identify the possible presence of sanitary defects and defects in distribution system coliform monitoring practices\n",
            "19. The correct answer is c) Within 30 days\n",
            "20. The correct answer is d) All of the above.\n"
          ]
        }
      ]
    }
  ]
}