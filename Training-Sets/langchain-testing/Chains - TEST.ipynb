{
 "cells": [
  {
   "cell_type": "markdown",
   "id": "a69c9b78",
   "metadata": {},
   "source": [
    "LangChain chain documentation: https://langchain.readthedocs.io/en/stable/reference/modules/chains.html"
   ]
  },
  {
   "cell_type": "markdown",
   "id": "508031b5",
   "metadata": {},
   "source": [
    "# TODOS:\n",
    "\n",
    "1. **Explore Chaining aspect of LangChain**, mainly just focus on indexing and embedding tho. See if this can be applied to the prompt engineering Zwea was talking about - basically try to graph/group embeddings (there's probably a medium article somewhere for this)\n",
    "2. **Explore / brainstorm ways to input data from tables / graphs**. Explore PaperQA and see if they have any libraries for this; explore other libraries if not. Can reach out to Hanning.\n",
    "3. **See if CSV works for LangChain inputs.** Not super important."
   ]
  },
  {
   "cell_type": "code",
   "execution_count": null,
   "id": "2a687bd3",
   "metadata": {},
   "outputs": [],
   "source": []
  }
 ],
 "metadata": {
  "kernelspec": {
   "display_name": "Python 3 (ipykernel)",
   "language": "python",
   "name": "python3"
  },
  "language_info": {
   "codemirror_mode": {
    "name": "ipython",
    "version": 3
   },
   "file_extension": ".py",
   "mimetype": "text/x-python",
   "name": "python",
   "nbconvert_exporter": "python",
   "pygments_lexer": "ipython3",
   "version": "3.9.7"
  }
 },
 "nbformat": 4,
 "nbformat_minor": 5
}
